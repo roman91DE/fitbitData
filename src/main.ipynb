{
 "cells": [
  {
   "cell_type": "code",
   "execution_count": 54,
   "metadata": {},
   "outputs": [],
   "source": [
    "from pathlib import Path\n",
    "import polars as pl\n",
    "\n",
    "\n",
    "project = Path().home().cwd().parent\n",
    "data = project / \"data\"\n",
    "fitbitdata = data / \"Takeout\" / \"Fitbit\"\n",
    "\n",
    "data_collection: dict[str, list[Path]] = {}\n",
    "\n",
    "for subdir in fitbitdata.glob(\"*\"):\n",
    "    for file in subdir.glob(\"*.csv\"):\n",
    "        topic = subdir.parts[-1]\n",
    "        if topic in data_collection.keys():\n",
    "            data_collection[topic].append(file)\n",
    "        else:\n",
    "            data_collection[topic] = [file]\n",
    "\n"
   ]
  },
  {
   "cell_type": "code",
   "execution_count": 61,
   "metadata": {},
   "outputs": [
    {
     "data": {
      "text/plain": [
       "Schema([('timestamp', Datetime(time_unit='us', time_zone=None)),\n",
       "        ('steps', Int64)])"
      ]
     },
     "execution_count": 61,
     "metadata": {},
     "output_type": "execute_result"
    }
   ],
   "source": [
    "step_files = filter(\n",
    "    lambda p : \"steps\" in p.parts[-1],\n",
    "    data_collection[\"Physical Activity_GoogleData\"]\n",
    ")\n",
    "\n",
    "query_buf = []\n",
    "\n",
    "for step_file in step_files:\n",
    "    query_buf.append(pl.scan_csv(\n",
    "        step_file,\n",
    "        schema_overrides={\"timestamp\": pl.Datetime}\n",
    "    ))\n",
    "\n",
    "query  = pl.concat(query_buf)\n",
    "query.collect_schema()"
   ]
  },
  {
   "cell_type": "code",
   "execution_count": 69,
   "metadata": {},
   "outputs": [],
   "source": [
    "result = (\n",
    "    query.group_by_dynamic(\"timestamp\", every=\"1h\", closed=\"left\")\n",
    "    .agg(pl.col(\"steps\").sum().alias(\"total_steps\"))\n",
    ")\n",
    "\n",
    "df = result.collect()"
   ]
  },
  {
   "cell_type": "code",
   "execution_count": 71,
   "metadata": {},
   "outputs": [
    {
     "data": {
      "text/html": [
       "<div><style>\n",
       ".dataframe > thead > tr,\n",
       ".dataframe > tbody > tr {\n",
       "  text-align: right;\n",
       "  white-space: pre-wrap;\n",
       "}\n",
       "</style>\n",
       "<small>shape: (9, 3)</small><table border=\"1\" class=\"dataframe\"><thead><tr><th>statistic</th><th>timestamp</th><th>total_steps</th></tr><tr><td>str</td><td>str</td><td>f64</td></tr></thead><tbody><tr><td>&quot;count&quot;</td><td>&quot;318&quot;</td><td>318.0</td></tr><tr><td>&quot;null_count&quot;</td><td>&quot;0&quot;</td><td>0.0</td></tr><tr><td>&quot;mean&quot;</td><td>&quot;2024-12-01 19:13:35.094339&quot;</td><td>580.647799</td></tr><tr><td>&quot;std&quot;</td><td>null</td><td>761.311998</td></tr><tr><td>&quot;min&quot;</td><td>&quot;2024-11-22 22:00:00&quot;</td><td>4.0</td></tr><tr><td>&quot;25%&quot;</td><td>&quot;2024-11-27 10:00:00&quot;</td><td>128.0</td></tr><tr><td>&quot;50%&quot;</td><td>&quot;2024-12-01 17:00:00&quot;</td><td>271.0</td></tr><tr><td>&quot;75%&quot;</td><td>&quot;2024-12-06 09:00:00&quot;</td><td>717.0</td></tr><tr><td>&quot;max&quot;</td><td>&quot;2024-12-10 19:00:00&quot;</td><td>3949.0</td></tr></tbody></table></div>"
      ],
      "text/plain": [
       "shape: (9, 3)\n",
       "┌────────────┬────────────────────────────┬─────────────┐\n",
       "│ statistic  ┆ timestamp                  ┆ total_steps │\n",
       "│ ---        ┆ ---                        ┆ ---         │\n",
       "│ str        ┆ str                        ┆ f64         │\n",
       "╞════════════╪════════════════════════════╪═════════════╡\n",
       "│ count      ┆ 318                        ┆ 318.0       │\n",
       "│ null_count ┆ 0                          ┆ 0.0         │\n",
       "│ mean       ┆ 2024-12-01 19:13:35.094339 ┆ 580.647799  │\n",
       "│ std        ┆ null                       ┆ 761.311998  │\n",
       "│ min        ┆ 2024-11-22 22:00:00        ┆ 4.0         │\n",
       "│ 25%        ┆ 2024-11-27 10:00:00        ┆ 128.0       │\n",
       "│ 50%        ┆ 2024-12-01 17:00:00        ┆ 271.0       │\n",
       "│ 75%        ┆ 2024-12-06 09:00:00        ┆ 717.0       │\n",
       "│ max        ┆ 2024-12-10 19:00:00        ┆ 3949.0      │\n",
       "└────────────┴────────────────────────────┴─────────────┘"
      ]
     },
     "execution_count": 71,
     "metadata": {},
     "output_type": "execute_result"
    }
   ],
   "source": [
    "df.describe()"
   ]
  }
 ],
 "metadata": {
  "kernelspec": {
   "display_name": "dataScienceEnv",
   "language": "python",
   "name": "python3"
  },
  "language_info": {
   "codemirror_mode": {
    "name": "ipython",
    "version": 3
   },
   "file_extension": ".py",
   "mimetype": "text/x-python",
   "name": "python",
   "nbconvert_exporter": "python",
   "pygments_lexer": "ipython3",
   "version": "3.13.1"
  }
 },
 "nbformat": 4,
 "nbformat_minor": 2
}
